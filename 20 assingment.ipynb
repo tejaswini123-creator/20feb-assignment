{
 "cells": [
  {
   "cell_type": "markdown",
   "id": "5df4e706-7d61-43af-868c-cd5339d277db",
   "metadata": {},
   "source": [
    "                                                                       ASSINGMENT\n",
    "Q1. Explain GET and POST methods.\n",
    "ANS        - GET method\n",
    "      -POST method\n",
    "Get and Post methods are the HTTP request methods used inside the <form> tag to send form data to the server.\n",
    "HTTP protocol enables the communication between the client and the server where a browser can be the client, and an application running on a computer system that hosts your website can be the server.\n",
    "\n",
    "Q2. Why is request used in Flask?\n",
    "ANS - The Request, in Flask, is an object that contains all the data sent from the Client to Server. This data can be recovered using the GET/POST Methods.\n",
    "\n",
    "Q3. Why is redirect() used in Flask?\n",
    "ANS - Flask class has a redirect() function. When called, it returns a response object and redirects the user to another target location with specified status code. location parameter is the URL where response should be redirected.\n",
    "\n",
    "Q4. What are templates in Flask? Why is the render_template() function used?\n",
    "ANS - Templates are files that contain static data as well as placeholders for dynamic data. A template is rendered with specific data to produce a final document. Flask uses the Jinja template library to render templates. In your application, you will use templates to render HTML which will display in the user's browser.\n",
    "This view function uses the render_template() function to render a template file called index.html\n",
    "\n",
    "Q5. Create a simple API. Use Postman to test it. Attach the screenshot of the output in the Jupyter Notebook.\n",
    "ANS – \n",
    "         \n",
    "\n",
    "\n"
   ]
  }
 ],
 "metadata": {
  "kernelspec": {
   "display_name": "Python 3 (ipykernel)",
   "language": "python",
   "name": "python3"
  },
  "language_info": {
   "codemirror_mode": {
    "name": "ipython",
    "version": 3
   },
   "file_extension": ".py",
   "mimetype": "text/x-python",
   "name": "python",
   "nbconvert_exporter": "python",
   "pygments_lexer": "ipython3",
   "version": "3.10.8"
  }
 },
 "nbformat": 4,
 "nbformat_minor": 5
}
